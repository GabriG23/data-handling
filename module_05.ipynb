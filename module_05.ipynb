{
 "cells": [
  {
   "cell_type": "markdown",
   "id": "742cc042",
   "metadata": {},
   "source": [
    "# Codice Modulo"
   ]
  },
  {
   "cell_type": "code",
   "execution_count": 1,
   "id": "bc33d54f",
   "metadata": {},
   "outputs": [],
   "source": [
    "import numpy as np"
   ]
  },
  {
   "cell_type": "code",
   "execution_count": 2,
   "id": "3eab3200",
   "metadata": {},
   "outputs": [
    {
     "name": "stdout",
     "output_type": "stream",
     "text": [
      "[[2700 3000 3000]\n",
      " [2600 2800 2800]\n",
      " [2300 2500 2500]]\n"
     ]
    }
   ],
   "source": [
    "jeff_salary = [2700,3000,3000]\n",
    "nick_salary = [2600,2800,2800]\n",
    "tom_salary = [2300,2500,2500]\n",
    "base_salary = np.array([jeff_salary, nick_salary, tom_salary])\n",
    "print(base_salary)"
   ]
  },
  {
   "cell_type": "code",
   "execution_count": 3,
   "id": "3ce81a98",
   "metadata": {},
   "outputs": [],
   "source": [
    "jeff_bonus = [500,400,400]\n",
    "nick_bonus = [600,300,400]\n",
    "tom_bonus = [200,500,400]\n",
    "bonus = np.array([jeff_bonus, nick_bonus, tom_bonus])"
   ]
  },
  {
   "cell_type": "code",
   "execution_count": 4,
   "id": "764c5108",
   "metadata": {},
   "outputs": [
    {
     "name": "stdout",
     "output_type": "stream",
     "text": [
      "<class 'numpy.ndarray'>\n",
      "[[3200 3400 3400]\n",
      " [3200 3100 3200]\n",
      " [2500 3000 2900]]\n"
     ]
    }
   ],
   "source": [
    "salary_bonus = base_salary + bonus\n",
    "print(type(salary_bonus))\n",
    "print(salary_bonus)"
   ]
  },
  {
   "cell_type": "code",
   "execution_count": 5,
   "id": "db31b27b",
   "metadata": {},
   "outputs": [
    {
     "name": "stdout",
     "output_type": "stream",
     "text": [
      "3400\n"
     ]
    }
   ],
   "source": [
    "print(salary_bonus.max())"
   ]
  },
  {
   "cell_type": "code",
   "execution_count": 6,
   "id": "9d6aefb1",
   "metadata": {},
   "outputs": [
    {
     "name": "stdout",
     "output_type": "stream",
     "text": [
      "[3400 3200 3000]\n"
     ]
    }
   ],
   "source": [
    "print(np.amax(salary_bonus, axis = 1))"
   ]
  },
  {
   "cell_type": "code",
   "execution_count": 7,
   "id": "f52bb31b",
   "metadata": {},
   "outputs": [
    {
     "name": "stdout",
     "output_type": "stream",
     "text": [
      "[3200 3400 3400]\n"
     ]
    }
   ],
   "source": [
    "print(np.amax(salary_bonus, axis = 0))"
   ]
  },
  {
   "cell_type": "code",
   "execution_count": 27,
   "id": "a96bb98a",
   "metadata": {},
   "outputs": [
    {
     "name": "stdout",
     "output_type": "stream",
     "text": [
      "0    Jeff Russell\n",
      "1    Jane Boorman\n",
      "2      Tom Heints\n",
      "dtype: object\n"
     ]
    }
   ],
   "source": [
    "import pandas as pd\n",
    "data = ['Jeff Russell','Jane Boorman','Tom Heints']\n",
    "emps_names = pd.Series(data)\n",
    "print(emps_names)"
   ]
  },
  {
   "cell_type": "code",
   "execution_count": 28,
   "id": "10c40bb9",
   "metadata": {},
   "outputs": [
    {
     "name": "stdout",
     "output_type": "stream",
     "text": [
      "9001    Jeff Russell\n",
      "9002    Jane Boorman\n",
      "9003      Tom Heints\n",
      "dtype: object\n"
     ]
    }
   ],
   "source": [
    "# serie con indici definiti dall'utente\n",
    "data = ['Jeff Russell','Jane Boorman','Tom Heints']\n",
    "emps_names = pd.Series(data,index=[9001,9002,9003])\n",
    "print(emps_names)"
   ]
  },
  {
   "cell_type": "code",
   "execution_count": 36,
   "id": "e30a55f9",
   "metadata": {},
   "outputs": [
    {
     "name": "stdout",
     "output_type": "stream",
     "text": [
      "Jeff Russell\n",
      "Jeff Russell\n",
      "Jeff Russell\n",
      "9001    Jeff Russell\n",
      "9002    Jane Boorman\n",
      "9003      Tom Heints\n",
      "dtype: object\n",
      "9001    Jeff Russell\n",
      "9002    Jane Boorman\n",
      "dtype: object\n"
     ]
    }
   ],
   "source": [
    "print(emps_names[9001])\n",
    "print(emps_names.loc[9001])\n",
    "print(emps_names.iloc[0])\n",
    "print(emps_names.loc[9001:9003])\n",
    "print(emps_names.iloc[0:2])"
   ]
  },
  {
   "cell_type": "code",
   "execution_count": 37,
   "id": "ab344c92",
   "metadata": {},
   "outputs": [
    {
     "name": "stdout",
     "output_type": "stream",
     "text": [
      "             names        emails\n",
      "9001  Jeff Russell  jeff.russell\n",
      "9002  Jane Boorman  jane.boorman\n",
      "9003    Tom Heints    tom.heints\n"
     ]
    }
   ],
   "source": [
    "data = ['jeff.russell','jane.boorman','tom.heints']\n",
    "emps_emails = pd.Series(data,index=[9001,9002,9003], name = 'emails')\n",
    "emps_names.name = 'names'\n",
    "df = pd.concat([emps_names,emps_emails], axis=1)\n",
    "print(df)"
   ]
  },
  {
   "cell_type": "code",
   "execution_count": null,
   "id": "bd175ce8",
   "metadata": {},
   "outputs": [],
   "source": [
    "import yfinance as yf\n",
    "tkr = yf.Ticker('TSLA')\n",
    "hist = tkr.history(period=\"5d\")\n",
    "hist = hist.drop(\"Dividends\", axis = 1)\n",
    "hist = hist.drop(\"Stock Splits\", axis = 1)\n",
    "hist = hist.reset_index()\n",
    "print(hist)\n",
    "hist = hist.set_index('Date')\n",
    "print(hist)"
   ]
  },
  {
   "cell_type": "code",
   "execution_count": 48,
   "id": "673bf704",
   "metadata": {},
   "outputs": [
    {
     "name": "stdout",
     "output_type": "stream",
     "text": [
      "       Salary\n",
      "Empno        \n",
      "9001     3000\n",
      "9002     2800\n",
      "9003     2500\n"
     ]
    }
   ],
   "source": [
    "import json\n",
    "import pandas as pd\n",
    "from io import StringIO\n",
    "\n",
    "data = [\n",
    "{\"Empno\":9001,\"Salary\":3000},\n",
    "{\"Empno\":9002,\"Salary\":2800},\n",
    "{\"Empno\":9003,\"Salary\":2500}\n",
    "]\n",
    "json_data = json.dumps(data)\n",
    "# salary = pd.read_json(json_data)\n",
    "salary = pd.read_json(StringIO((json_data)))\n",
    "salary = salary.set_index('Empno')\n",
    "print(salary)"
   ]
  },
  {
   "cell_type": "code",
   "execution_count": 52,
   "id": "b105493b",
   "metadata": {},
   "outputs": [
    {
     "name": "stdout",
     "output_type": "stream",
     "text": [
      "               Name    Job\n",
      "Empno                     \n",
      "9001   Jeff Russell  sales\n",
      "9002   Jane Boorman  sales\n",
      "9003     Tom Heints  sales\n"
     ]
    }
   ],
   "source": [
    "import pandas as pd\n",
    "data = [['9001','Jeff Russell', 'sales'],\n",
    "['9002','Jane Boorman', 'sales'],\n",
    "['9003','Tom Heints', 'sales']]\n",
    "emps = pd.DataFrame(data, columns = ['Empno', 'Name', 'Job'])\n",
    "column_types = {'Empno': int, 'Name': str, 'Job': str}\n",
    "emps = emps.astype(column_types)\n",
    "emps = emps.set_index('Empno')\n",
    "print(emps)"
   ]
  },
  {
   "cell_type": "code",
   "execution_count": 50,
   "id": "7c387959",
   "metadata": {},
   "outputs": [
    {
     "name": "stdout",
     "output_type": "stream",
     "text": [
      "               Name    Job  Salary\n",
      "Empno                             \n",
      "9001   Jeff Russell  sales    3000\n",
      "9002   Jane Boorman  sales    2800\n",
      "9003     Tom Heints  sales    2500\n"
     ]
    }
   ],
   "source": [
    "emps_salary = emps.join(salary)\n",
    "print(emps_salary)"
   ]
  },
  {
   "cell_type": "code",
   "execution_count": null,
   "id": "1e27f74a",
   "metadata": {},
   "outputs": [],
   "source": [
    "new_emp = pd.Series({'Name': 'John Hardy', 'Job': 'sales'}, name = 9004)\n",
    "emps = emps.append(new_emp)\n",
    "print(emps)"
   ]
  },
  {
   "cell_type": "code",
   "execution_count": 55,
   "id": "cd92a1fb",
   "metadata": {},
   "outputs": [
    {
     "name": "stdout",
     "output_type": "stream",
     "text": [
      "   Pono  Empno  Total\n",
      "0  2608   9001     35\n",
      "1  2617   9001     35\n",
      "2  2620   9001    139\n",
      "3  2621   9002     95\n",
      "4  2626   9002    218\n"
     ]
    }
   ],
   "source": [
    "import pandas as pd\n",
    "data = [[2608, 9001,35], [2617, 9001,35], [2620, 9001,139], [2621, 9002,95], [2626, 9002,218]]\n",
    "orders = pd.DataFrame(data, columns = ['Pono', 'Empno', 'Total'])\n",
    "print(orders)"
   ]
  },
  {
   "cell_type": "code",
   "execution_count": 56,
   "id": "414e59e5",
   "metadata": {},
   "outputs": [
    {
     "name": "stdout",
     "output_type": "stream",
     "text": [
      "      Empno          Name    Job  Total\n",
      "Pono                                   \n",
      "2608   9001  Jeff Russell  sales     35\n",
      "2617   9001  Jeff Russell  sales     35\n",
      "2620   9001  Jeff Russell  sales    139\n",
      "2621   9002  Jane Boorman  sales     95\n",
      "2626   9002  Jane Boorman  sales    218\n"
     ]
    }
   ],
   "source": [
    "# esempio 1 a N\n",
    "emps_orders = emps.merge(orders, how='inner', left_on='Empno', right_on='Empno').set_index('Pono')\n",
    "print(emps_orders)"
   ]
  },
  {
   "cell_type": "code",
   "execution_count": 57,
   "id": "9177c984",
   "metadata": {},
   "outputs": [
    {
     "name": "stdout",
     "output_type": "stream",
     "text": [
      "Empno\n",
      "9001     69.666667\n",
      "9002    156.500000\n",
      "Name: Total, dtype: float64\n"
     ]
    }
   ],
   "source": [
    "print(orders.groupby(['Empno'])['Total'].mean())"
   ]
  },
  {
   "cell_type": "code",
   "execution_count": 58,
   "id": "345114c9",
   "metadata": {},
   "outputs": [
    {
     "name": "stdout",
     "output_type": "stream",
     "text": [
      "Empno\n",
      "9001    209\n",
      "9002    313\n",
      "Name: Total, dtype: int64\n"
     ]
    }
   ],
   "source": [
    "print(orders.groupby(['Empno'])['Total'].sum())"
   ]
  },
  {
   "cell_type": "code",
   "execution_count": null,
   "id": "eb71bbbe",
   "metadata": {},
   "outputs": [],
   "source": [
    "import pandas as pd\n",
    "path = 'dataset/sentiment labelled sentences/amazon_cells_labelled.txt'\n",
    "df_sentiment = pd.read_csv(path, names=[ 'review', 'sentiment'], sep='\\t')\n",
    "# Poiché dei tabulatori separano le recensioni dai punteggi di sentiment corrispondenti nel file originale, è necessario specificare \\t come separatore ."
   ]
  },
  {
   "cell_type": "code",
   "execution_count": 63,
   "id": "b9e13d52",
   "metadata": {},
   "outputs": [
    {
     "data": {
      "text/html": [
       "<div>\n",
       "<style scoped>\n",
       "    .dataframe tbody tr th:only-of-type {\n",
       "        vertical-align: middle;\n",
       "    }\n",
       "\n",
       "    .dataframe tbody tr th {\n",
       "        vertical-align: top;\n",
       "    }\n",
       "\n",
       "    .dataframe thead th {\n",
       "        text-align: right;\n",
       "    }\n",
       "</style>\n",
       "<table border=\"1\" class=\"dataframe\">\n",
       "  <thead>\n",
       "    <tr style=\"text-align: right;\">\n",
       "      <th></th>\n",
       "      <th>review</th>\n",
       "      <th>sentiment</th>\n",
       "    </tr>\n",
       "  </thead>\n",
       "  <tbody>\n",
       "    <tr>\n",
       "      <th>0</th>\n",
       "      <td>So there is no way for me to plug it in here i...</td>\n",
       "      <td>0</td>\n",
       "    </tr>\n",
       "    <tr>\n",
       "      <th>1</th>\n",
       "      <td>Good case, Excellent value.</td>\n",
       "      <td>1</td>\n",
       "    </tr>\n",
       "    <tr>\n",
       "      <th>2</th>\n",
       "      <td>Great for the jawbone.</td>\n",
       "      <td>1</td>\n",
       "    </tr>\n",
       "    <tr>\n",
       "      <th>3</th>\n",
       "      <td>Tied to charger for conversations lasting more...</td>\n",
       "      <td>0</td>\n",
       "    </tr>\n",
       "    <tr>\n",
       "      <th>4</th>\n",
       "      <td>The mic is great.</td>\n",
       "      <td>1</td>\n",
       "    </tr>\n",
       "  </tbody>\n",
       "</table>\n",
       "</div>"
      ],
      "text/plain": [
       "                                              review  sentiment\n",
       "0  So there is no way for me to plug it in here i...          0\n",
       "1                        Good case, Excellent value.          1\n",
       "2                             Great for the jawbone.          1\n",
       "3  Tied to charger for conversations lasting more...          0\n",
       "4                                  The mic is great.          1"
      ]
     },
     "execution_count": 63,
     "metadata": {},
     "output_type": "execute_result"
    }
   ],
   "source": [
    "df_sentiment.head(5)"
   ]
  },
  {
   "cell_type": "code",
   "execution_count": null,
   "id": "dc29a1c0",
   "metadata": {},
   "outputs": [],
   "source": [
    "from sklearn.model_selection import train_test_split\n",
    "reviews = df['review'].values\n",
    "sentiments = df['sentiment'].values\n",
    "reviews_train, reviews_test, sentiment_train, sentiment_test = train_test_split(reviews, sentiments, test_size=0.2, random_state=500)\n",
    "# definisce la dimensione del dataset di test, e il random_state per la casualità"
   ]
  },
  {
   "cell_type": "code",
   "execution_count": 65,
   "id": "8ff03038",
   "metadata": {},
   "outputs": [],
   "source": [
    "from sklearn.feature_extraction.text import CountVectorizer\n",
    "vectorizer = CountVectorizer()\n",
    "vectorizer.fit(reviews)\n",
    "X_train = vectorizer.transform(reviews_train)\n",
    "X_test = vectorizer.transform(reviews_test)"
   ]
  },
  {
   "cell_type": "code",
   "execution_count": 66,
   "id": "d9d604ed",
   "metadata": {},
   "outputs": [
    {
     "data": {
      "text/html": [
       "<style>#sk-container-id-1 {\n",
       "  /* Definition of color scheme common for light and dark mode */\n",
       "  --sklearn-color-text: #000;\n",
       "  --sklearn-color-text-muted: #666;\n",
       "  --sklearn-color-line: gray;\n",
       "  /* Definition of color scheme for unfitted estimators */\n",
       "  --sklearn-color-unfitted-level-0: #fff5e6;\n",
       "  --sklearn-color-unfitted-level-1: #f6e4d2;\n",
       "  --sklearn-color-unfitted-level-2: #ffe0b3;\n",
       "  --sklearn-color-unfitted-level-3: chocolate;\n",
       "  /* Definition of color scheme for fitted estimators */\n",
       "  --sklearn-color-fitted-level-0: #f0f8ff;\n",
       "  --sklearn-color-fitted-level-1: #d4ebff;\n",
       "  --sklearn-color-fitted-level-2: #b3dbfd;\n",
       "  --sklearn-color-fitted-level-3: cornflowerblue;\n",
       "\n",
       "  /* Specific color for light theme */\n",
       "  --sklearn-color-text-on-default-background: var(--sg-text-color, var(--theme-code-foreground, var(--jp-content-font-color1, black)));\n",
       "  --sklearn-color-background: var(--sg-background-color, var(--theme-background, var(--jp-layout-color0, white)));\n",
       "  --sklearn-color-border-box: var(--sg-text-color, var(--theme-code-foreground, var(--jp-content-font-color1, black)));\n",
       "  --sklearn-color-icon: #696969;\n",
       "\n",
       "  @media (prefers-color-scheme: dark) {\n",
       "    /* Redefinition of color scheme for dark theme */\n",
       "    --sklearn-color-text-on-default-background: var(--sg-text-color, var(--theme-code-foreground, var(--jp-content-font-color1, white)));\n",
       "    --sklearn-color-background: var(--sg-background-color, var(--theme-background, var(--jp-layout-color0, #111)));\n",
       "    --sklearn-color-border-box: var(--sg-text-color, var(--theme-code-foreground, var(--jp-content-font-color1, white)));\n",
       "    --sklearn-color-icon: #878787;\n",
       "  }\n",
       "}\n",
       "\n",
       "#sk-container-id-1 {\n",
       "  color: var(--sklearn-color-text);\n",
       "}\n",
       "\n",
       "#sk-container-id-1 pre {\n",
       "  padding: 0;\n",
       "}\n",
       "\n",
       "#sk-container-id-1 input.sk-hidden--visually {\n",
       "  border: 0;\n",
       "  clip: rect(1px 1px 1px 1px);\n",
       "  clip: rect(1px, 1px, 1px, 1px);\n",
       "  height: 1px;\n",
       "  margin: -1px;\n",
       "  overflow: hidden;\n",
       "  padding: 0;\n",
       "  position: absolute;\n",
       "  width: 1px;\n",
       "}\n",
       "\n",
       "#sk-container-id-1 div.sk-dashed-wrapped {\n",
       "  border: 1px dashed var(--sklearn-color-line);\n",
       "  margin: 0 0.4em 0.5em 0.4em;\n",
       "  box-sizing: border-box;\n",
       "  padding-bottom: 0.4em;\n",
       "  background-color: var(--sklearn-color-background);\n",
       "}\n",
       "\n",
       "#sk-container-id-1 div.sk-container {\n",
       "  /* jupyter's `normalize.less` sets `[hidden] { display: none; }`\n",
       "     but bootstrap.min.css set `[hidden] { display: none !important; }`\n",
       "     so we also need the `!important` here to be able to override the\n",
       "     default hidden behavior on the sphinx rendered scikit-learn.org.\n",
       "     See: https://github.com/scikit-learn/scikit-learn/issues/21755 */\n",
       "  display: inline-block !important;\n",
       "  position: relative;\n",
       "}\n",
       "\n",
       "#sk-container-id-1 div.sk-text-repr-fallback {\n",
       "  display: none;\n",
       "}\n",
       "\n",
       "div.sk-parallel-item,\n",
       "div.sk-serial,\n",
       "div.sk-item {\n",
       "  /* draw centered vertical line to link estimators */\n",
       "  background-image: linear-gradient(var(--sklearn-color-text-on-default-background), var(--sklearn-color-text-on-default-background));\n",
       "  background-size: 2px 100%;\n",
       "  background-repeat: no-repeat;\n",
       "  background-position: center center;\n",
       "}\n",
       "\n",
       "/* Parallel-specific style estimator block */\n",
       "\n",
       "#sk-container-id-1 div.sk-parallel-item::after {\n",
       "  content: \"\";\n",
       "  width: 100%;\n",
       "  border-bottom: 2px solid var(--sklearn-color-text-on-default-background);\n",
       "  flex-grow: 1;\n",
       "}\n",
       "\n",
       "#sk-container-id-1 div.sk-parallel {\n",
       "  display: flex;\n",
       "  align-items: stretch;\n",
       "  justify-content: center;\n",
       "  background-color: var(--sklearn-color-background);\n",
       "  position: relative;\n",
       "}\n",
       "\n",
       "#sk-container-id-1 div.sk-parallel-item {\n",
       "  display: flex;\n",
       "  flex-direction: column;\n",
       "}\n",
       "\n",
       "#sk-container-id-1 div.sk-parallel-item:first-child::after {\n",
       "  align-self: flex-end;\n",
       "  width: 50%;\n",
       "}\n",
       "\n",
       "#sk-container-id-1 div.sk-parallel-item:last-child::after {\n",
       "  align-self: flex-start;\n",
       "  width: 50%;\n",
       "}\n",
       "\n",
       "#sk-container-id-1 div.sk-parallel-item:only-child::after {\n",
       "  width: 0;\n",
       "}\n",
       "\n",
       "/* Serial-specific style estimator block */\n",
       "\n",
       "#sk-container-id-1 div.sk-serial {\n",
       "  display: flex;\n",
       "  flex-direction: column;\n",
       "  align-items: center;\n",
       "  background-color: var(--sklearn-color-background);\n",
       "  padding-right: 1em;\n",
       "  padding-left: 1em;\n",
       "}\n",
       "\n",
       "\n",
       "/* Toggleable style: style used for estimator/Pipeline/ColumnTransformer box that is\n",
       "clickable and can be expanded/collapsed.\n",
       "- Pipeline and ColumnTransformer use this feature and define the default style\n",
       "- Estimators will overwrite some part of the style using the `sk-estimator` class\n",
       "*/\n",
       "\n",
       "/* Pipeline and ColumnTransformer style (default) */\n",
       "\n",
       "#sk-container-id-1 div.sk-toggleable {\n",
       "  /* Default theme specific background. It is overwritten whether we have a\n",
       "  specific estimator or a Pipeline/ColumnTransformer */\n",
       "  background-color: var(--sklearn-color-background);\n",
       "}\n",
       "\n",
       "/* Toggleable label */\n",
       "#sk-container-id-1 label.sk-toggleable__label {\n",
       "  cursor: pointer;\n",
       "  display: flex;\n",
       "  width: 100%;\n",
       "  margin-bottom: 0;\n",
       "  padding: 0.5em;\n",
       "  box-sizing: border-box;\n",
       "  text-align: center;\n",
       "  align-items: start;\n",
       "  justify-content: space-between;\n",
       "  gap: 0.5em;\n",
       "}\n",
       "\n",
       "#sk-container-id-1 label.sk-toggleable__label .caption {\n",
       "  font-size: 0.6rem;\n",
       "  font-weight: lighter;\n",
       "  color: var(--sklearn-color-text-muted);\n",
       "}\n",
       "\n",
       "#sk-container-id-1 label.sk-toggleable__label-arrow:before {\n",
       "  /* Arrow on the left of the label */\n",
       "  content: \"▸\";\n",
       "  float: left;\n",
       "  margin-right: 0.25em;\n",
       "  color: var(--sklearn-color-icon);\n",
       "}\n",
       "\n",
       "#sk-container-id-1 label.sk-toggleable__label-arrow:hover:before {\n",
       "  color: var(--sklearn-color-text);\n",
       "}\n",
       "\n",
       "/* Toggleable content - dropdown */\n",
       "\n",
       "#sk-container-id-1 div.sk-toggleable__content {\n",
       "  max-height: 0;\n",
       "  max-width: 0;\n",
       "  overflow: hidden;\n",
       "  text-align: left;\n",
       "  /* unfitted */\n",
       "  background-color: var(--sklearn-color-unfitted-level-0);\n",
       "}\n",
       "\n",
       "#sk-container-id-1 div.sk-toggleable__content.fitted {\n",
       "  /* fitted */\n",
       "  background-color: var(--sklearn-color-fitted-level-0);\n",
       "}\n",
       "\n",
       "#sk-container-id-1 div.sk-toggleable__content pre {\n",
       "  margin: 0.2em;\n",
       "  border-radius: 0.25em;\n",
       "  color: var(--sklearn-color-text);\n",
       "  /* unfitted */\n",
       "  background-color: var(--sklearn-color-unfitted-level-0);\n",
       "}\n",
       "\n",
       "#sk-container-id-1 div.sk-toggleable__content.fitted pre {\n",
       "  /* unfitted */\n",
       "  background-color: var(--sklearn-color-fitted-level-0);\n",
       "}\n",
       "\n",
       "#sk-container-id-1 input.sk-toggleable__control:checked~div.sk-toggleable__content {\n",
       "  /* Expand drop-down */\n",
       "  max-height: 200px;\n",
       "  max-width: 100%;\n",
       "  overflow: auto;\n",
       "}\n",
       "\n",
       "#sk-container-id-1 input.sk-toggleable__control:checked~label.sk-toggleable__label-arrow:before {\n",
       "  content: \"▾\";\n",
       "}\n",
       "\n",
       "/* Pipeline/ColumnTransformer-specific style */\n",
       "\n",
       "#sk-container-id-1 div.sk-label input.sk-toggleable__control:checked~label.sk-toggleable__label {\n",
       "  color: var(--sklearn-color-text);\n",
       "  background-color: var(--sklearn-color-unfitted-level-2);\n",
       "}\n",
       "\n",
       "#sk-container-id-1 div.sk-label.fitted input.sk-toggleable__control:checked~label.sk-toggleable__label {\n",
       "  background-color: var(--sklearn-color-fitted-level-2);\n",
       "}\n",
       "\n",
       "/* Estimator-specific style */\n",
       "\n",
       "/* Colorize estimator box */\n",
       "#sk-container-id-1 div.sk-estimator input.sk-toggleable__control:checked~label.sk-toggleable__label {\n",
       "  /* unfitted */\n",
       "  background-color: var(--sklearn-color-unfitted-level-2);\n",
       "}\n",
       "\n",
       "#sk-container-id-1 div.sk-estimator.fitted input.sk-toggleable__control:checked~label.sk-toggleable__label {\n",
       "  /* fitted */\n",
       "  background-color: var(--sklearn-color-fitted-level-2);\n",
       "}\n",
       "\n",
       "#sk-container-id-1 div.sk-label label.sk-toggleable__label,\n",
       "#sk-container-id-1 div.sk-label label {\n",
       "  /* The background is the default theme color */\n",
       "  color: var(--sklearn-color-text-on-default-background);\n",
       "}\n",
       "\n",
       "/* On hover, darken the color of the background */\n",
       "#sk-container-id-1 div.sk-label:hover label.sk-toggleable__label {\n",
       "  color: var(--sklearn-color-text);\n",
       "  background-color: var(--sklearn-color-unfitted-level-2);\n",
       "}\n",
       "\n",
       "/* Label box, darken color on hover, fitted */\n",
       "#sk-container-id-1 div.sk-label.fitted:hover label.sk-toggleable__label.fitted {\n",
       "  color: var(--sklearn-color-text);\n",
       "  background-color: var(--sklearn-color-fitted-level-2);\n",
       "}\n",
       "\n",
       "/* Estimator label */\n",
       "\n",
       "#sk-container-id-1 div.sk-label label {\n",
       "  font-family: monospace;\n",
       "  font-weight: bold;\n",
       "  display: inline-block;\n",
       "  line-height: 1.2em;\n",
       "}\n",
       "\n",
       "#sk-container-id-1 div.sk-label-container {\n",
       "  text-align: center;\n",
       "}\n",
       "\n",
       "/* Estimator-specific */\n",
       "#sk-container-id-1 div.sk-estimator {\n",
       "  font-family: monospace;\n",
       "  border: 1px dotted var(--sklearn-color-border-box);\n",
       "  border-radius: 0.25em;\n",
       "  box-sizing: border-box;\n",
       "  margin-bottom: 0.5em;\n",
       "  /* unfitted */\n",
       "  background-color: var(--sklearn-color-unfitted-level-0);\n",
       "}\n",
       "\n",
       "#sk-container-id-1 div.sk-estimator.fitted {\n",
       "  /* fitted */\n",
       "  background-color: var(--sklearn-color-fitted-level-0);\n",
       "}\n",
       "\n",
       "/* on hover */\n",
       "#sk-container-id-1 div.sk-estimator:hover {\n",
       "  /* unfitted */\n",
       "  background-color: var(--sklearn-color-unfitted-level-2);\n",
       "}\n",
       "\n",
       "#sk-container-id-1 div.sk-estimator.fitted:hover {\n",
       "  /* fitted */\n",
       "  background-color: var(--sklearn-color-fitted-level-2);\n",
       "}\n",
       "\n",
       "/* Specification for estimator info (e.g. \"i\" and \"?\") */\n",
       "\n",
       "/* Common style for \"i\" and \"?\" */\n",
       "\n",
       ".sk-estimator-doc-link,\n",
       "a:link.sk-estimator-doc-link,\n",
       "a:visited.sk-estimator-doc-link {\n",
       "  float: right;\n",
       "  font-size: smaller;\n",
       "  line-height: 1em;\n",
       "  font-family: monospace;\n",
       "  background-color: var(--sklearn-color-background);\n",
       "  border-radius: 1em;\n",
       "  height: 1em;\n",
       "  width: 1em;\n",
       "  text-decoration: none !important;\n",
       "  margin-left: 0.5em;\n",
       "  text-align: center;\n",
       "  /* unfitted */\n",
       "  border: var(--sklearn-color-unfitted-level-1) 1pt solid;\n",
       "  color: var(--sklearn-color-unfitted-level-1);\n",
       "}\n",
       "\n",
       ".sk-estimator-doc-link.fitted,\n",
       "a:link.sk-estimator-doc-link.fitted,\n",
       "a:visited.sk-estimator-doc-link.fitted {\n",
       "  /* fitted */\n",
       "  border: var(--sklearn-color-fitted-level-1) 1pt solid;\n",
       "  color: var(--sklearn-color-fitted-level-1);\n",
       "}\n",
       "\n",
       "/* On hover */\n",
       "div.sk-estimator:hover .sk-estimator-doc-link:hover,\n",
       ".sk-estimator-doc-link:hover,\n",
       "div.sk-label-container:hover .sk-estimator-doc-link:hover,\n",
       ".sk-estimator-doc-link:hover {\n",
       "  /* unfitted */\n",
       "  background-color: var(--sklearn-color-unfitted-level-3);\n",
       "  color: var(--sklearn-color-background);\n",
       "  text-decoration: none;\n",
       "}\n",
       "\n",
       "div.sk-estimator.fitted:hover .sk-estimator-doc-link.fitted:hover,\n",
       ".sk-estimator-doc-link.fitted:hover,\n",
       "div.sk-label-container:hover .sk-estimator-doc-link.fitted:hover,\n",
       ".sk-estimator-doc-link.fitted:hover {\n",
       "  /* fitted */\n",
       "  background-color: var(--sklearn-color-fitted-level-3);\n",
       "  color: var(--sklearn-color-background);\n",
       "  text-decoration: none;\n",
       "}\n",
       "\n",
       "/* Span, style for the box shown on hovering the info icon */\n",
       ".sk-estimator-doc-link span {\n",
       "  display: none;\n",
       "  z-index: 9999;\n",
       "  position: relative;\n",
       "  font-weight: normal;\n",
       "  right: .2ex;\n",
       "  padding: .5ex;\n",
       "  margin: .5ex;\n",
       "  width: min-content;\n",
       "  min-width: 20ex;\n",
       "  max-width: 50ex;\n",
       "  color: var(--sklearn-color-text);\n",
       "  box-shadow: 2pt 2pt 4pt #999;\n",
       "  /* unfitted */\n",
       "  background: var(--sklearn-color-unfitted-level-0);\n",
       "  border: .5pt solid var(--sklearn-color-unfitted-level-3);\n",
       "}\n",
       "\n",
       ".sk-estimator-doc-link.fitted span {\n",
       "  /* fitted */\n",
       "  background: var(--sklearn-color-fitted-level-0);\n",
       "  border: var(--sklearn-color-fitted-level-3);\n",
       "}\n",
       "\n",
       ".sk-estimator-doc-link:hover span {\n",
       "  display: block;\n",
       "}\n",
       "\n",
       "/* \"?\"-specific style due to the `<a>` HTML tag */\n",
       "\n",
       "#sk-container-id-1 a.estimator_doc_link {\n",
       "  float: right;\n",
       "  font-size: 1rem;\n",
       "  line-height: 1em;\n",
       "  font-family: monospace;\n",
       "  background-color: var(--sklearn-color-background);\n",
       "  border-radius: 1rem;\n",
       "  height: 1rem;\n",
       "  width: 1rem;\n",
       "  text-decoration: none;\n",
       "  /* unfitted */\n",
       "  color: var(--sklearn-color-unfitted-level-1);\n",
       "  border: var(--sklearn-color-unfitted-level-1) 1pt solid;\n",
       "}\n",
       "\n",
       "#sk-container-id-1 a.estimator_doc_link.fitted {\n",
       "  /* fitted */\n",
       "  border: var(--sklearn-color-fitted-level-1) 1pt solid;\n",
       "  color: var(--sklearn-color-fitted-level-1);\n",
       "}\n",
       "\n",
       "/* On hover */\n",
       "#sk-container-id-1 a.estimator_doc_link:hover {\n",
       "  /* unfitted */\n",
       "  background-color: var(--sklearn-color-unfitted-level-3);\n",
       "  color: var(--sklearn-color-background);\n",
       "  text-decoration: none;\n",
       "}\n",
       "\n",
       "#sk-container-id-1 a.estimator_doc_link.fitted:hover {\n",
       "  /* fitted */\n",
       "  background-color: var(--sklearn-color-fitted-level-3);\n",
       "}\n",
       "</style><div id=\"sk-container-id-1\" class=\"sk-top-container\"><div class=\"sk-text-repr-fallback\"><pre>LogisticRegression()</pre><b>In a Jupyter environment, please rerun this cell to show the HTML representation or trust the notebook. <br />On GitHub, the HTML representation is unable to render, please try loading this page with nbviewer.org.</b></div><div class=\"sk-container\" hidden><div class=\"sk-item\"><div class=\"sk-estimator fitted sk-toggleable\"><input class=\"sk-toggleable__control sk-hidden--visually\" id=\"sk-estimator-id-1\" type=\"checkbox\" checked><label for=\"sk-estimator-id-1\" class=\"sk-toggleable__label fitted sk-toggleable__label-arrow\"><div><div>LogisticRegression</div></div><div><a class=\"sk-estimator-doc-link fitted\" rel=\"noreferrer\" target=\"_blank\" href=\"https://scikit-learn.org/1.6/modules/generated/sklearn.linear_model.LogisticRegression.html\">?<span>Documentation for LogisticRegression</span></a><span class=\"sk-estimator-doc-link fitted\">i<span>Fitted</span></span></div></label><div class=\"sk-toggleable__content fitted\"><pre>LogisticRegression()</pre></div> </div></div></div></div>"
      ],
      "text/plain": [
       "LogisticRegression()"
      ]
     },
     "execution_count": 66,
     "metadata": {},
     "output_type": "execute_result"
    }
   ],
   "source": [
    "# Validazione\n",
    "from sklearn.linear_model import LogisticRegression\n",
    "classifier = LogisticRegression()\n",
    "classifier.fit(X_train, sentiment_train)"
   ]
  },
  {
   "cell_type": "code",
   "execution_count": 67,
   "id": "c88ae71b",
   "metadata": {},
   "outputs": [
    {
     "name": "stdout",
     "output_type": "stream",
     "text": [
      "Accuracy: 0.81\n"
     ]
    }
   ],
   "source": [
    "accuracy = classifier.score(X_test, sentiment_test)\n",
    "print(\"Accuracy:\", accuracy)"
   ]
  },
  {
   "cell_type": "code",
   "execution_count": 68,
   "id": "be94e180",
   "metadata": {},
   "outputs": [
    {
     "name": "stdout",
     "output_type": "stream",
     "text": [
      "[0 0 1]\n"
     ]
    }
   ],
   "source": [
    "new_reviews = ['Old version of python useless', 'Very good effort, but not five stars', 'Clear and concise']\n",
    "X_new = vectorizer.transform(new_reviews)\n",
    "print(classifier.predict(X_new))"
   ]
  },
  {
   "cell_type": "markdown",
   "id": "d927bf51",
   "metadata": {},
   "source": [
    "# Esercizi"
   ]
  },
  {
   "cell_type": "code",
   "execution_count": null,
   "id": "ab9364e5",
   "metadata": {},
   "outputs": [],
   "source": [
    "# Esercizio 1: Utilizzare le funzioni statistiche di NumPy\n",
    "# Trovare la media degli importi massimi pagati ogni mese a tutti i dipendenti\n",
    "\n",
    "print(salary_bonus)\n",
    "\n",
    "print(np.median(salary_bonus, axis=0))\n",
    "# se non metto l'asse lo fa solo sul primo\n",
    "# la mediana è un'altra cosa rispetto alla media\n",
    "\n",
    "def median(x = [1, 2, 3, 4]): # dove x è un array di elementi\n",
    "    # molto semplicemente la mediana è un numero, una posizione che indica il punto in cui metà numeri hanno valore\n",
    "    # superiore rispetto a quel punto, mentre l'altra metà ha un valore inferiore rispetto a quel punto\n",
    "    n = len(x)\n",
    "    med = []\n",
    "    if n % 2 == 0:\n",
    "        med.append(x[int((n+1)/2)])\n",
    "    else:\n",
    "        med.append((x[int(n/2)] + x[int(n/2 + 1)]) / 2)\n",
    "    return med\n",
    "print(median())\n",
    "\n",
    "print(np.average(salary_bonus, axis=0))\n",
    "print(np.average(salary_bonus, axis=1))\n",
    "# asse 0 verticale y\n",
    "# asse 1 orizzontale x"
   ]
  },
  {
   "cell_type": "code",
   "execution_count": 40,
   "id": "817e3c09",
   "metadata": {},
   "outputs": [
    {
     "name": "stdout",
     "output_type": "stream",
     "text": [
      "             names        emails      phones\n",
      "9001  Jeff Russell  jeff.russell  1241231231\n",
      "9002  Jane Boorman  jane.boorman  5232348234\n",
      "9003    Tom Heints    tom.heints  2348234238\n"
     ]
    }
   ],
   "source": [
    "# Esercizio2: Combinare tre serie\n",
    "data = ['Jeff Russell','Jane Boorman','Tom Heints']\n",
    "emps_names = pd.Series(data,index=[9001,9002,9003])\n",
    "emps_names.name = 'names'\n",
    "\n",
    "data_2 = ['jeff.russell','jane.boorman','tom.heints']\n",
    "emps_emails = pd.Series(data_2,index=[9001,9002,9003], name = 'emails')\n",
    "\n",
    "data_ph = [1241231231, 5232348234, 2348234238]\n",
    "emps_phones = pd.Series(data_ph, index=[9001, 9002, 9003], name = 'phones')\n",
    "df = pd.concat([emps_names,emps_emails, emps_phones], axis=1)\n",
    "print(df)"
   ]
  },
  {
   "cell_type": "code",
   "execution_count": null,
   "id": "91b2f724",
   "metadata": {},
   "outputs": [],
   "source": [
    "# Esercizio 3 Utilizzare join diverse\n",
    "# aggiungere una nuova riga al df salary in modo che il valore di Empno in questa riga non si trovi nel Dataframe emps\n",
    "# Successivamente, unite il DataFrame emps con il DF salary in modo che il nuovo df includa\n",
    "# solo le righe di emps che hanno una corrispondenza nel DF salary\n",
    "# Unite nuovamente emps con salary in modo che il nuovo df includa tutte le righe di entrambi i dataframe\n",
    "\n",
    "import pandas as pd\n",
    "import json\n",
    "from io import StringIO\n",
    "\n",
    "data = [ {\"Empno\":9001,\"Salary\":3000}, {\"Empno\":9002,\"Salary\":2800}, {\"Empno\":9003,\"Salary\":2500} ]\n",
    "json_data = json.dumps(data)\n",
    "salary = pd.read_json(StringIO((json_data)))\n",
    "print(salary)\n",
    "\n",
    "data = [ ['9001','Jeff Russell', 'sales'], ['9002','Jane Boorman', 'sales'], ['9003','Tom Heints', 'sales'] ]\n",
    "emps = pd.DataFrame(data, columns = ['Empno', 'Name', 'Job'])\n",
    "column_types = {'Empno': int, 'Name': str, 'Job': str}\n",
    "emps = emps.astype(column_types)\n",
    "emps = emps.set_index('Empno')\n",
    "print(emps)\n",
    "\n",
    "# Aggiungiamo una riga con Empno = 9999 che non esiste in emps\n",
    "new_row = pd.DataFrame([{\"Empno\": 9999, \"Salary\": 3200}]) # creiamo una nuova riga\n",
    "salary = pd.concat([salary, new_row], ignore_index=True) # la aggiungiamo a salary\n",
    "\n",
    "# Unire emps con salary includendo solo le righe di emps che hanno corrispondenza in salary\n",
    "# Prima mettiamo anche emps con Empno come colonna (non indice) per facilitarne la join\n",
    "emps_reset = emps.reset_index()  # resettiamo l'indice \n",
    "inner_join = pd.merge(emps_reset, salary, on=\"Empno\", how=\"inner\") # facciamo un inner join tra le due tabelle\n",
    "\n",
    "full_outer_join = pd.merge(emps_reset, salary, on=\"Empno\", how=\"outer\") # full outer per includere tutte le righe di entrambe le tabelle"
   ]
  }
 ],
 "metadata": {
  "kernelspec": {
   "display_name": ".venv",
   "language": "python",
   "name": "python3"
  },
  "language_info": {
   "codemirror_mode": {
    "name": "ipython",
    "version": 3
   },
   "file_extension": ".py",
   "mimetype": "text/x-python",
   "name": "python",
   "nbconvert_exporter": "python",
   "pygments_lexer": "ipython3",
   "version": "3.13.3"
  }
 },
 "nbformat": 4,
 "nbformat_minor": 5
}
