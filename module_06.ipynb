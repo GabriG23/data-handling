{
 "cells": [
  {
   "cell_type": "markdown",
   "id": "e76a513f",
   "metadata": {},
   "source": [
    "# Modulo 6 esercizi"
   ]
  },
  {
   "cell_type": "code",
   "execution_count": 2,
   "id": "8178b2e8",
   "metadata": {},
   "outputs": [
    {
     "name": "stdout",
     "output_type": "stream",
     "text": [
      "Today, robots can talk to humans using natural language, and they're getting smarter. Even so, very few people understand how these robots work or how they might use these technologies in their own projects.\n",
      "\n",
      "Natural language processing (NLP) - a branch of artificial intelligence that helps machines understand and respond to human language - is the key technology that lies at the heart of any digital assistant product.\n"
     ]
    }
   ],
   "source": [
    "path = \"./module_06/excerpt.txt\"\n",
    "with open( path, \"r\") as f:\n",
    "    content = f.read()\n",
    "print(content)"
   ]
  },
  {
   "cell_type": "code",
   "execution_count": 3,
   "id": "e23cf009",
   "metadata": {},
   "outputs": [
    {
     "name": "stdout",
     "output_type": "stream",
     "text": [
      "Line 0:  Today, robots can talk to humans using natural language, and they're getting smarter. Even so, very few people understand how these robots work or how they might use these technologies in their own projects.\n",
      "Line 2:  Natural language processing (NLP) - a branch of artificial intelligence that helps machines understand and respond to human language - is the key technology that lies at the heart of any digital assistant product.\n"
     ]
    }
   ],
   "source": [
    "path = \"./module_06/excerpt.txt\"\n",
    "with open(path,\"r\") as f:\n",
    "    for i, line in enumerate(f):\n",
    "        if line.strip():\n",
    "            print(f\"Line {i}: \", line.strip())"
   ]
  },
  {
   "cell_type": "code",
   "execution_count": 4,
   "id": "4b26e848",
   "metadata": {},
   "outputs": [],
   "source": [
    "path = \"./module_06/excerpt.txt\"\n",
    "with open(path,\"r\") as f:\n",
    "    lst = [line.strip() for line in f if line.strip()]"
   ]
  },
  {
   "cell_type": "code",
   "execution_count": 5,
   "id": "c26f3456",
   "metadata": {},
   "outputs": [
    {
     "name": "stdout",
     "output_type": "stream",
     "text": [
      "[{'Year': '1997', 'Make': 'Ford', 'Model': 'E350', 'Price': '3200.00'}, {'Year': '1999', 'Make': 'Chevy', 'Model': 'Venture', 'Price': '4800.00'}, {'Year': '1996', 'Make': 'Jeep', 'Model': 'Grand Cherokee', 'Price': '4900.00'}]\n"
     ]
    }
   ],
   "source": [
    "import csv\n",
    "path = \"./module_06/cars.csv\"\n",
    "with open(path, \"r\") as csv_file:\n",
    "    csv_reader = csv.DictReader(csv_file)\n",
    "    cars = []\n",
    "    for row in csv_reader:\n",
    "        cars.append(dict(row))\n",
    "print(cars)"
   ]
  },
  {
   "cell_type": "code",
   "execution_count": 6,
   "id": "5cd31eff",
   "metadata": {},
   "outputs": [
    {
     "name": "stdout",
     "output_type": "stream",
     "text": [
      "[['Year', 'Make', 'Model', 'Price'], ['1997', 'Ford', 'E350', '3200.00'], ['1999', 'Chevy', 'Venture', '4800.00'], ['1996', 'Jeep', 'Grand Cherokee', '4900.00']]\n"
     ]
    }
   ],
   "source": [
    "import csv\n",
    "path = \"./module_06/cars.csv\"\n",
    "with open(path, \"r\") as csv_file:\n",
    "    csv_reader = csv.reader(csv_file)\n",
    "    cars = []\n",
    "    for row in csv_reader:\n",
    "        cars.append(row)\n",
    "print(cars)"
   ]
  },
  {
   "cell_type": "code",
   "execution_count": 15,
   "id": "cd8c1f01",
   "metadata": {},
   "outputs": [
    {
     "name": "stdout",
     "output_type": "stream",
     "text": [
      "73106\n"
     ]
    }
   ],
   "source": [
    "image = \"./module_06/agm_solutions.png\"\n",
    "with open(image, \"rb\") as image_file:\n",
    "    content = image_file.read()\n",
    "print(len(content))"
   ]
  },
  {
   "cell_type": "code",
   "execution_count": 23,
   "id": "10c15669",
   "metadata": {},
   "outputs": [
    {
     "name": "stdout",
     "output_type": "stream",
     "text": [
      "['1997', 'Ford', 'E350', '3200.00']\n",
      "['1999', 'Chevy', 'Venture', '4800.00']\n",
      "['1996', 'Jeep', 'Grand Cherokee', '4900.00']\n"
     ]
    }
   ],
   "source": [
    "import csv\n",
    "path = \"./module_06/cars.csv\"\n",
    "with open(path, \"r\") as csv_file:\n",
    "    csv_reader = csv.DictReader(csv_file)\n",
    "    cars = []\n",
    "    for row in csv_reader:\n",
    "        cars.append(dict(row))\n",
    "# print(cars)\n",
    "\n",
    "for row in cars:\n",
    "    print(list(row.values()))\n",
    "\n",
    "to_update = ['1999', 'Chevy', 'Venture']\n",
    "new_price = '4500.00'\n",
    "with open('./module_06/cars_2.csv', 'w', newline='') as csvfile:\n",
    "    fieldnames = cars[0].keys()\n",
    "    writer = csv.DictWriter(csvfile, fieldnames=fieldnames)\n",
    "    # crea un oggetto writer che mapperà i dizionari della lista cars sulle righe da inviare al file cars_2.csv\n",
    "    writer.writeheader()\n",
    "    for row in cars:\n",
    "        if set(to_update).issubset(set(row.values())):\n",
    "            row['Price'] = new_price\n",
    "        writer.writerow(row)"
   ]
  },
  {
   "cell_type": "code",
   "execution_count": null,
   "id": "eff8ee78",
   "metadata": {},
   "outputs": [],
   "source": [
    "'''\n",
    "GET /api/books?bibkeys=ISBN%3A1718500521&format=json HTTP/1.1\n",
    "Host: openlibrary.org\n",
    "User-Agent: python-requests/2.24.0\n",
    "Accept-Encoding: gzip, deflate\n",
    "Accept: */*\n",
    "Connection: keep-alive\n",
    "'''"
   ]
  },
  {
   "cell_type": "code",
   "execution_count": 24,
   "id": "4fb9ba05",
   "metadata": {},
   "outputs": [
    {
     "data": {
      "text/plain": [
       "<Response [200]>"
      ]
     },
     "execution_count": 24,
     "metadata": {},
     "output_type": "execute_result"
    }
   ],
   "source": [
    "import requests\n",
    "PARAMS = {'bibkeys':'ISBN:1718500521', 'format':'json'}\n",
    "requests.get('http://openlibrary.org/api/books', params = PARAMS)"
   ]
  },
  {
   "cell_type": "code",
   "execution_count": null,
   "id": "c15a25cd",
   "metadata": {},
   "outputs": [
    {
     "name": "stdout",
     "output_type": "stream",
     "text": [
      "Line 0:  Today, robots can talk to humans using natural language, and they’re getting smarter. Even so, very few people understand how these robots work or how they might use these technologies in their own projects.\n",
      "Line 2:  Natural language processing (NLP) – a branch of artificial intelligence that helps machines understand and respond to human language – is the key technology that lies at the heart of any digital assistant product.\n"
     ]
    }
   ],
   "source": [
    "# https://github.com/pythondatabook/sources/blob/main/ch4/excerpt.txt \n",
    "# questo è il link della pagina, se lo si usa non funzionerà\n",
    "# bisogna usare con l'URL grezzo 'raw' del file\n",
    "#'https://raw.githubusercontent.com/pythondatabook/sources/main/ch4/excerpt.txt'\n",
    "\n",
    "import urllib3\n",
    "http = urllib3.PoolManager() # creo un'istanza\n",
    "# r = http.request('GET', 'http://localhost/excerpt.txt')\n",
    "r = http.request('GET', 'https://raw.githubusercontent.com/pythondatabook/sources/main/ch4/excerpt.txt')\n",
    "for i, line in enumerate(r.data.decode('utf-8').split('\\n')):\n",
    "    if line.strip():\n",
    "        print(\"Line %i: \" %(i), line.strip())"
   ]
  },
  {
   "cell_type": "code",
   "execution_count": 29,
   "id": "42abac13",
   "metadata": {},
   "outputs": [
    {
     "name": "stdout",
     "output_type": "stream",
     "text": [
      "Here are the 8 programming languages to know to land a tech job on Wall Street\n",
      "2025-05-26T08:48:01Z\n",
      "https://www.businessinsider.com/top-programming-languages-work-wall-street-jobs\n",
      "\n",
      "The Mouse Language, Running on Arduino\n",
      "2025-05-21T05:00:34Z\n",
      "https://hackaday.com/2025/05/20/the-mouse-language-running-on-arduino/\n",
      "\n",
      "Project Verona: Fearless Concurrency for Python\n",
      "2025-05-15T10:58:09Z\n",
      "https://microsoft.github.io/verona/pyrona.html\n",
      "\n",
      "Every programming language has its 'killer' domain\n",
      "2025-05-18T04:01:58Z\n",
      "https://huijzer.xyz/posts/67\n",
      "\n",
      "The language brain matters more for learning programming than the math brain\n",
      "2025-05-02T15:19:22Z\n",
      "https://massivesci.com/articles/programming-math-language-python-women-in-science/\n",
      "\n"
     ]
    }
   ],
   "source": [
    "# la mia chiave API: ec39968f73984d429f1938a2fe3760ab\n",
    "\n",
    "import json\n",
    "import urllib3\n",
    "http = urllib3.PoolManager()\n",
    "r = http.request('GET', 'https://newsapi.org/v2/everything?q=Python+programming+language&apiKey=ec39968f73984d429f1938a2fe3760ab&pageSize=5')\n",
    "articles = json.loads(r.data.decode('utf-8'))\n",
    "for article in articles['articles']:\n",
    "    print(article['title'])\n",
    "    print(article['publishedAt'])\n",
    "    print(article['url'])\n",
    "    print()"
   ]
  },
  {
   "cell_type": "code",
   "execution_count": 30,
   "id": "293e93e5",
   "metadata": {},
   "outputs": [
    {
     "name": "stdout",
     "output_type": "stream",
     "text": [
      "Line 0:  Today, robots can talk to humans using natural language, and they’re getting smarter. Even so, very few people understand how these robots work or how they might use these technologies in their own projects.\n",
      "Line 2:  Natural language processing (NLP) – a branch of artificial intelligence that helps machines understand and respond to human language – is the key technology that lies at the heart of any digital assistant product.\n"
     ]
    }
   ],
   "source": [
    "import requests\n",
    "r = requests.get('https://raw.githubusercontent.com/pythondatabook/sources/main/ch4/excerpt.txt')\n",
    "for i, line in enumerate( r.text.split('\\n')):\n",
    "    if line.strip():\n",
    "        print(\"Line %i: \" %(i), line.strip())"
   ]
  },
  {
   "cell_type": "code",
   "execution_count": 44,
   "id": "913a1627",
   "metadata": {},
   "outputs": [],
   "source": [
    "data = [{\n",
    "        \"Emp\": \"Jeff Russell\",\n",
    "        \"POs\": [{\"Pono\": 2608, \"Total\": 35},\n",
    "                {\"Pono\": 2617, \"Total\": 35},\n",
    "                {\"Pono\": 2620, \"Total\": 139}\n",
    "                ]\n",
    "        },\n",
    "        {\n",
    "        \"Emp\": \"Jane Boorman\",\n",
    "        \"POs\": [{\"Pono\": 2621, \"Total\": 95},\n",
    "                {\"Pono\": 2626, \"Total\": 218}\n",
    "                ]\n",
    "        }]"
   ]
  },
  {
   "cell_type": "code",
   "execution_count": 52,
   "id": "47749520",
   "metadata": {},
   "outputs": [
    {
     "name": "stdout",
     "output_type": "stream",
     "text": [
      "                   Total\n",
      "Emp          Pono       \n",
      "Jeff Russell 2608     35\n",
      "             2617     35\n",
      "             2620    139\n",
      "Jane Boorman 2621     95\n",
      "             2626    218\n"
     ]
    }
   ],
   "source": [
    "import json\n",
    "import pandas as pd\n",
    "df = pd.json_normalize(data, \"POs\", \"Emp\").set_index([\"Emp\",\"Pono\"])\n",
    "print(df)\n",
    "# l'utilizzo di un indice a due colonne semplifica l'aggregazione dei dati all'interno dei gruppi"
   ]
  },
  {
   "cell_type": "code",
   "execution_count": 62,
   "id": "d9009d24",
   "metadata": {},
   "outputs": [
    {
     "name": "stdout",
     "output_type": "stream",
     "text": [
      "[\n",
      "  {\n",
      "    \"Emp\": \"Jane Boorman\",\n",
      "    \"POs\": [\n",
      "      {\n",
      "        \"Pono\": 2621,\n",
      "        \"Total\": 95\n",
      "      },\n",
      "      {\n",
      "        \"Pono\": 2626,\n",
      "        \"Total\": 218\n",
      "      }\n",
      "    ]\n",
      "  },\n",
      "  {\n",
      "    \"Emp\": \"Jeff Russell\",\n",
      "    \"POs\": [\n",
      "      {\n",
      "        \"Pono\": 2608,\n",
      "        \"Total\": 35\n",
      "      },\n",
      "      {\n",
      "        \"Pono\": 2617,\n",
      "        \"Total\": 35\n",
      "      },\n",
      "      {\n",
      "        \"Pono\": 2620,\n",
      "        \"Total\": 139\n",
      "      }\n",
      "    ]\n",
      "  }\n",
      "]\n"
     ]
    }
   ],
   "source": [
    "df = pd.json_normalize(data, \"POs\", \"Emp\").set_index([\"Emp\",\"Pono\"])\n",
    "df = df.reset_index()\n",
    "json_doc = (\n",
    "    df.groupby('Emp', as_index=True)\n",
    "    .apply(lambda x: x[['Pono', 'Total']].to_dict('records'), include_groups=False)\n",
    "    .reset_index()\n",
    "    .rename(columns={0: 'POs'})\n",
    "    .to_json(orient='records')\n",
    ")\n",
    "print(json.dumps(json.loads(json_doc), indent=2))"
   ]
  },
  {
   "cell_type": "markdown",
   "id": "68638e66",
   "metadata": {},
   "source": [
    "## Pandas-datareader"
   ]
  },
  {
   "cell_type": "code",
   "execution_count": null,
   "id": "7db4a72c",
   "metadata": {},
   "outputs": [],
   "source": [
    "# link: https://data.nasdaq.com/institutional-investors\n",
    "# link: https://stooq.com/\n",
    "\n",
    "import pandas_datareader.data as pdr\n",
    "print(dir(pdr))\n"
   ]
  },
  {
   "cell_type": "code",
   "execution_count": null,
   "id": "25316753",
   "metadata": {},
   "outputs": [],
   "source": [
    "import pandas_datareader.data as pdr\n",
    "spx_index = pdr.get_data_stooq('^SPX', '2022-01-03', '2022-01-10')\n",
    "print(spx_index)"
   ]
  },
  {
   "cell_type": "markdown",
   "id": "b4341a62",
   "metadata": {},
   "source": [
    "# Esercizi"
   ]
  },
  {
   "cell_type": "code",
   "execution_count": 71,
   "id": "02e6e522",
   "metadata": {},
   "outputs": [
    {
     "name": "stdout",
     "output_type": "stream",
     "text": [
      "{'Year': '1997', 'Make': 'Ford', 'Model': 'E350', 'Price': '3200.00'}\n",
      "{'Year': '1999', 'Make': 'Chevy', 'Model': 'Venture', 'Price': '4800.00'}\n",
      "{'Year': '1996', 'Make': 'Jeep', 'Model': 'Grand Cherokee', 'Price': '4900.00'}\n"
     ]
    }
   ],
   "source": [
    "# Esercizio 1: importare un file JSON\n",
    "import json\n",
    "path = \"./module_06/cars.json\"\n",
    "with open(path, \"r\") as json_file:\n",
    "    json_reader = json.load(json_file)\n",
    "    cars = []\n",
    "    for c in json_reader['cars']:\n",
    "        print(c)\n",
    "        cars.append(row)\n"
   ]
  },
  {
   "cell_type": "code",
   "execution_count": 70,
   "id": "af5e5978",
   "metadata": {},
   "outputs": [
    {
     "name": "stdout",
     "output_type": "stream",
     "text": [
      "Here are the 8 programming languages to know to land a tech job on Wall Street\n",
      "2025-05-26T08:48:01Z\n",
      "https://www.businessinsider.com/top-programming-languages-work-wall-street-jobs\n",
      "\n",
      "The Mouse Language, Running on Arduino\n",
      "2025-05-21T05:00:34Z\n",
      "https://hackaday.com/2025/05/20/the-mouse-language-running-on-arduino/\n",
      "\n",
      "Project Verona: Fearless Concurrency for Python\n",
      "2025-05-15T10:58:09Z\n",
      "https://microsoft.github.io/verona/pyrona.html\n",
      "\n",
      "Every programming language has its 'killer' domain\n",
      "2025-05-18T04:01:58Z\n",
      "https://huijzer.xyz/posts/67\n",
      "\n",
      "The language brain matters more for learning programming than the math brain\n",
      "2025-05-02T15:19:22Z\n",
      "https://massivesci.com/articles/programming-math-language-python-women-in-science/\n",
      "\n"
     ]
    }
   ],
   "source": [
    "# Esercizio 2: Come urllib3, la libreria Requests può interagire con le API HTTP. Provate a riscrivere il codice che invia una richiesta GET all’API News\n",
    "# in modo che utilizzi la libreria Requests al posto di urllib3. Si noti che con Requests non è necessario aggiungere manualmente i parametri\n",
    "# di query all’URL passato. Si possono invece passare i parametri come un dizionario di stringhe.\n",
    "\n",
    "# la mia chiave API: ec39968f73984d429f1938a2fe3760ab\n",
    "\n",
    "import requests\n",
    "r = requests.get('https://newsapi.org/v2/everything?q=Python+programming+language&apiKey=ec39968f73984d429f1938a2fe3760ab&pageSize=5')\n",
    "articles = r.json()['articles']\n",
    "for article in articles:\n",
    "    print(article['title'])\n",
    "    print(article['publishedAt'])\n",
    "    print(article['url'])\n",
    "    print()\n"
   ]
  },
  {
   "cell_type": "code",
   "execution_count": 69,
   "id": "8c9ea1bd",
   "metadata": {},
   "outputs": [
    {
     "name": "stdout",
     "output_type": "stream",
     "text": [
      "[\n",
      "  {\n",
      "    \"Emp\": \"Jane Boorman\",\n",
      "    \"Emp_email\": \"jane.boorman\",\n",
      "    \"POs\": [\n",
      "      {\n",
      "        \"Pono\": 2621,\n",
      "        \"Total\": 95\n",
      "      },\n",
      "      {\n",
      "        \"Pono\": 2626,\n",
      "        \"Total\": 218\n",
      "      }\n",
      "    ]\n",
      "  },\n",
      "  {\n",
      "    \"Emp\": \"Jeff Russell\",\n",
      "    \"Emp_email\": \"jeff.russel\",\n",
      "    \"POs\": [\n",
      "      {\n",
      "        \"Pono\": 2608,\n",
      "        \"Total\": 35\n",
      "      },\n",
      "      {\n",
      "        \"Pono\": 2617,\n",
      "        \"Total\": 35\n",
      "      },\n",
      "      {\n",
      "        \"Pono\": 2620,\n",
      "        \"Total\": 139\n",
      "      }\n",
      "    ]\n",
      "  }\n",
      "]\n"
     ]
    }
   ],
   "source": [
    "# Esercizio 3: convertire questo dataframe nel documento json originale, modificando il groupby\n",
    "import pandas as pd\n",
    "\n",
    "data = [{\"Emp\": \"Jeff Russell\",\n",
    "         \"Emp_email\": \"jeff.russel\",\n",
    "        \"POs\": [{\"Pono\": 2608, \"Total\": 35},\n",
    "                {\"Pono\": 2617, \"Total\": 35},\n",
    "                {\"Pono\": 2620, \"Total\": 139}]\n",
    "        },\n",
    "        {\n",
    "        \"Emp\": \"Jane Boorman\",\n",
    "        \"Emp_email\": \"jane.boorman\",\n",
    "        \"POs\": [{\"Pono\": 2621, \"Total\": 95},\n",
    "                {\"Pono\": 2626, \"Total\": 218}  ]\n",
    "        }]\n",
    "\n",
    "df = pd.json_normalize(data, \"POs\", [\"Emp\", \"Emp_email\"]).set_index([\"Emp\", \"Emp_email\", \"Pono\"])\n",
    "df = df.reset_index()\n",
    "json_doc = (\n",
    "    df.groupby(['Emp', 'Emp_email'], as_index=True)\n",
    "    .apply(lambda x: x[['Pono', 'Total']].to_dict('records'), include_groups=False)\n",
    "    .reset_index()\n",
    "    .rename(columns={0: 'POs'})\n",
    "    .to_json(orient='records')\n",
    ")\n",
    "\n",
    "print(json.dumps(json.loads(json_doc), indent=2))"
   ]
  }
 ],
 "metadata": {
  "kernelspec": {
   "display_name": ".venv",
   "language": "python",
   "name": "python3"
  },
  "language_info": {
   "codemirror_mode": {
    "name": "ipython",
    "version": 3
   },
   "file_extension": ".py",
   "mimetype": "text/x-python",
   "name": "python",
   "nbconvert_exporter": "python",
   "pygments_lexer": "ipython3",
   "version": "3.13.3"
  }
 },
 "nbformat": 4,
 "nbformat_minor": 5
}
